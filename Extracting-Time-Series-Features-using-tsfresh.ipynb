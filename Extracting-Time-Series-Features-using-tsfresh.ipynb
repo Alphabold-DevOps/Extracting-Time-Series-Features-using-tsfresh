{
 "cells": [
  {
   "cell_type": "code",
   "execution_count": null,
   "id": "af184987",
   "metadata": {
    "scrolled": false
   },
   "outputs": [],
   "source": [
    "!pip install tsfresh"
   ]
  },
  {
   "cell_type": "code",
   "execution_count": null,
   "id": "17afaef4",
   "metadata": {},
   "outputs": [],
   "source": [
    "from tsfresh.examples.robot_execution_failures import download_robot_execution_failures,load_robot_execution_failures\n"
   ]
  },
  {
   "cell_type": "code",
   "execution_count": null,
   "id": "37a1bd44",
   "metadata": {},
   "outputs": [],
   "source": [
    "download_robot_execution_failures()\n",
    "df, y = load_robot_execution_failures()"
   ]
  },
  {
   "cell_type": "code",
   "execution_count": null,
   "id": "063411f9",
   "metadata": {
    "scrolled": false
   },
   "outputs": [],
   "source": [
    "df"
   ]
  },
  {
   "cell_type": "code",
   "execution_count": null,
   "id": "b1dfe369",
   "metadata": {
    "scrolled": true
   },
   "outputs": [],
   "source": [
    "y"
   ]
  },
  {
   "cell_type": "code",
   "execution_count": null,
   "id": "1e4fa69e",
   "metadata": {},
   "outputs": [],
   "source": [
    "from tsfresh import extract_features"
   ]
  },
  {
   "cell_type": "code",
   "execution_count": null,
   "id": "c9d9916d",
   "metadata": {},
   "outputs": [],
   "source": [
    "features = extract_features(df, column_id=\"id\", column_sort=\"time\")\n",
    "features"
   ]
  },
  {
   "cell_type": "code",
   "execution_count": null,
   "id": "42642b4e",
   "metadata": {},
   "outputs": [],
   "source": [
    "import tsfresh.feature_extraction.settings"
   ]
  },
  {
   "cell_type": "code",
   "execution_count": null,
   "id": "8bf82071",
   "metadata": {},
   "outputs": [],
   "source": [
    "kind_to_fc_parameters_all = tsfresh.feature_extraction.settings.from_columns(features)\n",
    "kind_to_fc_parameters_all"
   ]
  },
  {
   "cell_type": "code",
   "execution_count": null,
   "id": "40ab4d4a",
   "metadata": {},
   "outputs": [],
   "source": [
    "features_dict ={'F_x': {\n",
    "  'median': None,\n",
    "  'mean': None,\n",
    "  'variance': None,\n",
    "  'maximum': None,\n",
    "  'minimum': None,\n",
    "  'linear_trend': [{'attr': 'pvalue'},\n",
    "   {'attr': 'rvalue'},\n",
    "   {'attr': 'intercept'},\n",
    "   {'attr': 'slope'},\n",
    "   {'attr': 'stderr'}]}}"
   ]
  },
  {
   "cell_type": "code",
   "execution_count": null,
   "id": "8e16c64c",
   "metadata": {},
   "outputs": [],
   "source": [
    "features_limited_F_x = extract_features(df, column_id=\"id\", column_sort=\"time\", kind_to_fc_parameters = features_dict)\n",
    "features_limited_F_x"
   ]
  },
  {
   "cell_type": "code",
   "execution_count": null,
   "id": "72f874a3",
   "metadata": {},
   "outputs": [],
   "source": [
    "list(features_limited_F_x.columns)"
   ]
  },
  {
   "cell_type": "markdown",
   "id": "e2dde260",
   "metadata": {},
   "source": []
  }
 ],
 "metadata": {
  "kernelspec": {
   "display_name": "tsfreshblog",
   "language": "python",
   "name": "tsfreshblog"
  },
  "language_info": {
   "codemirror_mode": {
    "name": "ipython",
    "version": 3
   },
   "file_extension": ".py",
   "mimetype": "text/x-python",
   "name": "python",
   "nbconvert_exporter": "python",
   "pygments_lexer": "ipython3",
   "version": "3.6.13"
  }
 },
 "nbformat": 4,
 "nbformat_minor": 5
}
